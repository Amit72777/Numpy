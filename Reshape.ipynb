{
 "cells": [
  {
   "cell_type": "markdown",
   "id": "02413e93",
   "metadata": {},
   "source": [
    "# Reshape of numpy\n"
   ]
  },
  {
   "cell_type": "code",
   "execution_count": 8,
   "id": "3ef1d656",
   "metadata": {},
   "outputs": [],
   "source": [
    "import numpy as np\n"
   ]
  },
  {
   "cell_type": "code",
   "execution_count": 9,
   "id": "7b7a3f38",
   "metadata": {},
   "outputs": [],
   "source": [
    "arr = np.random.randint(2,20,10)"
   ]
  },
  {
   "cell_type": "code",
   "execution_count": 10,
   "id": "2bf91bb4",
   "metadata": {},
   "outputs": [
    {
     "data": {
      "text/plain": [
       "array([17, 13,  4,  5, 16,  8,  2,  5, 15, 12])"
      ]
     },
     "execution_count": 10,
     "metadata": {},
     "output_type": "execute_result"
    }
   ],
   "source": [
    "arr"
   ]
  },
  {
   "cell_type": "code",
   "execution_count": 11,
   "id": "5265e1d9",
   "metadata": {},
   "outputs": [
    {
     "name": "stdout",
     "output_type": "stream",
     "text": [
      "<class 'numpy.ndarray'>\n"
     ]
    }
   ],
   "source": [
    "print(type(arr))"
   ]
  },
  {
   "cell_type": "code",
   "execution_count": 12,
   "id": "88b13987",
   "metadata": {},
   "outputs": [
    {
     "data": {
      "text/plain": [
       "(10,)"
      ]
     },
     "execution_count": 12,
     "metadata": {},
     "output_type": "execute_result"
    }
   ],
   "source": [
    "arr.shape"
   ]
  },
  {
   "cell_type": "code",
   "execution_count": 13,
   "id": "c3c8fc8c",
   "metadata": {},
   "outputs": [],
   "source": [
    "arr2 = arr.reshape(2,5)  # argument multiply is equal to no of variable other give a error\n"
   ]
  },
  {
   "cell_type": "code",
   "execution_count": 14,
   "id": "c3453170",
   "metadata": {},
   "outputs": [
    {
     "data": {
      "text/plain": [
       "(10,)"
      ]
     },
     "execution_count": 14,
     "metadata": {},
     "output_type": "execute_result"
    }
   ],
   "source": [
    "arr2 \n",
    "arr.ndim\n",
    "arr.shape"
   ]
  },
  {
   "cell_type": "code",
   "execution_count": 15,
   "id": "735a7993",
   "metadata": {},
   "outputs": [
    {
     "data": {
      "text/plain": [
       "array([[17, 13,  4,  5, 16],\n",
       "       [ 8,  2,  5, 15, 12]])"
      ]
     },
     "execution_count": 15,
     "metadata": {},
     "output_type": "execute_result"
    }
   ],
   "source": [
    "arr2"
   ]
  },
  {
   "cell_type": "code",
   "execution_count": 16,
   "id": "00a6f2b2",
   "metadata": {},
   "outputs": [
    {
     "data": {
      "text/plain": [
       "2"
      ]
     },
     "execution_count": 16,
     "metadata": {},
     "output_type": "execute_result"
    }
   ],
   "source": [
    "arr2.ndim"
   ]
  },
  {
   "cell_type": "code",
   "execution_count": 17,
   "id": "ae4ea697",
   "metadata": {},
   "outputs": [
    {
     "data": {
      "text/plain": [
       "array([ 0,  1,  2,  3,  4,  5,  6,  7,  8,  9, 10, 11, 12, 13, 14, 15, 16,\n",
       "       17, 18, 19, 20, 21, 22, 23, 24, 25, 26, 27, 28, 29, 30, 31, 32, 33,\n",
       "       34, 35, 36, 37, 38, 39, 40, 41, 42, 43, 44, 45, 46, 47, 48, 49])"
      ]
     },
     "execution_count": 17,
     "metadata": {},
     "output_type": "execute_result"
    }
   ],
   "source": [
    "ar_t = np.arange(0,50)\n",
    "ar_t  # arrange functin can take input in a certain limit form first argument to last argument "
   ]
  },
  {
   "cell_type": "code",
   "execution_count": 18,
   "id": "29188f86",
   "metadata": {},
   "outputs": [
    {
     "data": {
      "text/plain": [
       "array([[ 0,  1,  2,  3,  4,  5,  6,  7,  8,  9],\n",
       "       [10, 11, 12, 13, 14, 15, 16, 17, 18, 19],\n",
       "       [20, 21, 22, 23, 24, 25, 26, 27, 28, 29],\n",
       "       [30, 31, 32, 33, 34, 35, 36, 37, 38, 39],\n",
       "       [40, 41, 42, 43, 44, 45, 46, 47, 48, 49]])"
      ]
     },
     "execution_count": 18,
     "metadata": {},
     "output_type": "execute_result"
    }
   ],
   "source": [
    "ar = ar_t.reshape(5,-1) # -1 indiccae he own calculate it is run for who many term are need \n",
    "ar"
   ]
  },
  {
   "cell_type": "code",
   "execution_count": 19,
   "id": "5689b11e",
   "metadata": {},
   "outputs": [
    {
     "data": {
      "text/plain": [
       "array([[ 0,  1,  2,  3,  4],\n",
       "       [ 5,  6,  7,  8,  9],\n",
       "       [10, 11, 12, 13, 14],\n",
       "       [15, 16, 17, 18, 19],\n",
       "       [20, 21, 22, 23, 24],\n",
       "       [25, 26, 27, 28, 29],\n",
       "       [30, 31, 32, 33, 34],\n",
       "       [35, 36, 37, 38, 39],\n",
       "       [40, 41, 42, 43, 44],\n",
       "       [45, 46, 47, 48, 49]])"
      ]
     },
     "execution_count": 19,
     "metadata": {},
     "output_type": "execute_result"
    }
   ],
   "source": [
    "ar2 = ar_t.reshape(-1,5)\n",
    "ar2"
   ]
  },
  {
   "cell_type": "code",
   "execution_count": 20,
   "id": "cd098b65",
   "metadata": {},
   "outputs": [
    {
     "data": {
      "text/plain": [
       "array([13,  8, 19,  4,  5,  5, 14, 18, 19,  7])"
      ]
     },
     "execution_count": 20,
     "metadata": {},
     "output_type": "execute_result"
    }
   ],
   "source": [
    "np.random.seed(12) #Setting a seed using the seed function allows you to reproduce the same sequence of random numbers every time you run your program. \n",
    "re = np.random.randint(2,20,10)\n",
    "re"
   ]
  },
  {
   "cell_type": "code",
   "execution_count": 21,
   "id": "02a9228a",
   "metadata": {},
   "outputs": [
    {
     "data": {
      "text/plain": [
       "array([[13,  8, 19,  4,  5],\n",
       "       [ 5, 14, 18, 19,  7]])"
      ]
     },
     "execution_count": 21,
     "metadata": {},
     "output_type": "execute_result"
    }
   ],
   "source": [
    "r = re.reshape(2,-1)\n",
    "r"
   ]
  },
  {
   "cell_type": "code",
   "execution_count": null,
   "id": "20cebca5",
   "metadata": {},
   "outputs": [],
   "source": []
  },
  {
   "cell_type": "code",
   "execution_count": null,
   "id": "cd2888f3",
   "metadata": {},
   "outputs": [],
   "source": []
  }
 ],
 "metadata": {
  "kernelspec": {
   "display_name": "Python 3 (ipykernel)",
   "language": "python",
   "name": "python3"
  },
  "language_info": {
   "codemirror_mode": {
    "name": "ipython",
    "version": 3
   },
   "file_extension": ".py",
   "mimetype": "text/x-python",
   "name": "python",
   "nbconvert_exporter": "python",
   "pygments_lexer": "ipython3",
   "version": "3.11.4"
  }
 },
 "nbformat": 4,
 "nbformat_minor": 5
}
