{
 "cells": [
  {
   "cell_type": "code",
   "execution_count": 1,
   "id": "cdaa4b59",
   "metadata": {},
   "outputs": [],
   "source": [
    "import numpy as np\n"
   ]
  },
  {
   "cell_type": "code",
   "execution_count": 19,
   "id": "655d2261",
   "metadata": {},
   "outputs": [],
   "source": [
    "np.random.seed(123)\n",
    "matrix = np.random.randint(1,11,9).reshape(3,-1)"
   ]
  },
  {
   "cell_type": "code",
   "execution_count": 20,
   "id": "79c88c93",
   "metadata": {},
   "outputs": [
    {
     "name": "stdout",
     "output_type": "stream",
     "text": [
      "[[ 3  3  7]\n",
      " [ 2  4 10]\n",
      " [ 7  2  1]]\n"
     ]
    }
   ],
   "source": [
    "print(matrix)"
   ]
  },
  {
   "cell_type": "code",
   "execution_count": 21,
   "id": "fef93cd5",
   "metadata": {},
   "outputs": [
    {
     "data": {
      "text/plain": [
       "10"
      ]
     },
     "execution_count": 21,
     "metadata": {},
     "output_type": "execute_result"
    }
   ],
   "source": [
    "matrix.max() # find max number "
   ]
  },
  {
   "cell_type": "code",
   "execution_count": 22,
   "id": "0f8012be",
   "metadata": {},
   "outputs": [
    {
     "data": {
      "text/plain": [
       "39"
      ]
     },
     "execution_count": 22,
     "metadata": {},
     "output_type": "execute_result"
    }
   ],
   "source": [
    "matrix.sum() # find sum of matrix "
   ]
  },
  {
   "cell_type": "code",
   "execution_count": 23,
   "id": "dccc6fee",
   "metadata": {},
   "outputs": [
    {
     "data": {
      "text/plain": [
       "1"
      ]
     },
     "execution_count": 23,
     "metadata": {},
     "output_type": "execute_result"
    }
   ],
   "source": [
    "matrix.min() # find minmum number in matrix "
   ]
  },
  {
   "cell_type": "code",
   "execution_count": 24,
   "id": "e0e7f4ff",
   "metadata": {},
   "outputs": [
    {
     "data": {
      "text/plain": [
       "5"
      ]
     },
     "execution_count": 24,
     "metadata": {},
     "output_type": "execute_result"
    }
   ],
   "source": [
    "matrix.argmax() # find maximum index "
   ]
  },
  {
   "cell_type": "markdown",
   "id": "aba75510",
   "metadata": {},
   "source": [
    "find minum in each row \n"
   ]
  },
  {
   "cell_type": "markdown",
   "id": "ece02c81",
   "metadata": {},
   "source": [
    "for row = 1 & column = 0  "
   ]
  },
  {
   "cell_type": "code",
   "execution_count": 28,
   "id": "da1dcf32",
   "metadata": {},
   "outputs": [
    {
     "name": "stdout",
     "output_type": "stream",
     "text": [
      "[[ 3  3  7]\n",
      " [ 2  4 10]\n",
      " [ 7  2  1]]\n"
     ]
    }
   ],
   "source": [
    "print(matrix)"
   ]
  },
  {
   "cell_type": "code",
   "execution_count": 30,
   "id": "c2a2666e",
   "metadata": {},
   "outputs": [
    {
     "data": {
      "text/plain": [
       "array([12,  9, 18])"
      ]
     },
     "execution_count": 30,
     "metadata": {},
     "output_type": "execute_result"
    }
   ],
   "source": [
    "np.sum(matrix,axis = 0 )   # sum of every column "
   ]
  },
  {
   "cell_type": "code",
   "execution_count": 31,
   "id": "2fc3d82a",
   "metadata": {},
   "outputs": [
    {
     "data": {
      "text/plain": [
       "array([13, 16, 10])"
      ]
     },
     "execution_count": 31,
     "metadata": {},
     "output_type": "execute_result"
    }
   ],
   "source": [
    "np.sum(matrix,axis = 1 ) # sum of every row "
   ]
  },
  {
   "cell_type": "code",
   "execution_count": 33,
   "id": "9d21f945",
   "metadata": {},
   "outputs": [
    {
     "data": {
      "text/plain": [
       "array([ 3,  6, 13, 15, 19, 29, 36, 38, 39])"
      ]
     },
     "execution_count": 33,
     "metadata": {},
     "output_type": "execute_result"
    }
   ],
   "source": [
    "np.cumsum(matrix)  # cumulative sum of matrix\n"
   ]
  },
  {
   "cell_type": "code",
   "execution_count": 36,
   "id": "e0ea941d",
   "metadata": {},
   "outputs": [
    {
     "data": {
      "text/plain": [
       "array([[ 3,  6, 13],\n",
       "       [ 2,  6, 16],\n",
       "       [ 7,  9, 10]])"
      ]
     },
     "execution_count": 36,
     "metadata": {},
     "output_type": "execute_result"
    }
   ],
   "source": [
    "np.cumsum(matrix , axis = 1 ) # row wise cumulative sum of matrix  "
   ]
  },
  {
   "cell_type": "code",
   "execution_count": 37,
   "id": "9fcd7811",
   "metadata": {},
   "outputs": [
    {
     "data": {
      "text/plain": [
       "array([[ 3,  3,  7],\n",
       "       [ 5,  7, 17],\n",
       "       [12,  9, 18]])"
      ]
     },
     "execution_count": 37,
     "metadata": {},
     "output_type": "execute_result"
    }
   ],
   "source": [
    "np.cumsum(matrix , axis = 0 ) # column  wise cumulative sum of matrix  "
   ]
  },
  {
   "cell_type": "code",
   "execution_count": 39,
   "id": "5538f300",
   "metadata": {},
   "outputs": [
    {
     "data": {
      "text/plain": [
       "70560"
      ]
     },
     "execution_count": 39,
     "metadata": {},
     "output_type": "execute_result"
    }
   ],
   "source": [
    "np.prod(matrix)  # total product of every term\n",
    " "
   ]
  },
  {
   "cell_type": "code",
   "execution_count": 40,
   "id": "189a58a4",
   "metadata": {},
   "outputs": [
    {
     "data": {
      "text/plain": [
       "array([63, 80, 14])"
      ]
     },
     "execution_count": 40,
     "metadata": {},
     "output_type": "execute_result"
    }
   ],
   "source": [
    "np.prod(matrix,axis = 1 ) # column wise product "
   ]
  },
  {
   "cell_type": "code",
   "execution_count": 41,
   "id": "168ae948",
   "metadata": {},
   "outputs": [
    {
     "data": {
      "text/plain": [
       "array([42, 24, 70])"
      ]
     },
     "execution_count": 41,
     "metadata": {},
     "output_type": "execute_result"
    }
   ],
   "source": [
    "np.prod(matrix , axis = 0 ) # procudt wise product "
   ]
  },
  {
   "cell_type": "code",
   "execution_count": 43,
   "id": "68e19e75",
   "metadata": {},
   "outputs": [
    {
     "data": {
      "text/plain": [
       "4.333333333333333"
      ]
     },
     "execution_count": 43,
     "metadata": {},
     "output_type": "execute_result"
    }
   ],
   "source": [
    "np.mean(matrix)   # mean of matrix "
   ]
  },
  {
   "cell_type": "code",
   "execution_count": 44,
   "id": "a90c2875",
   "metadata": {},
   "outputs": [
    {
     "data": {
      "text/plain": [
       "array([4., 3., 6.])"
      ]
     },
     "execution_count": 44,
     "metadata": {},
     "output_type": "execute_result"
    }
   ],
   "source": [
    "np.mean(matrix, axis = 0 )   # row wise mean "
   ]
  },
  {
   "cell_type": "code",
   "execution_count": 45,
   "id": "81683883",
   "metadata": {},
   "outputs": [
    {
     "data": {
      "text/plain": [
       "array([4.33333333, 5.33333333, 3.33333333])"
      ]
     },
     "execution_count": 45,
     "metadata": {},
     "output_type": "execute_result"
    }
   ],
   "source": [
    "np.mean(matrix,axis = 1 )  # mean of column "
   ]
  },
  {
   "cell_type": "code",
   "execution_count": null,
   "id": "fa515eda",
   "metadata": {},
   "outputs": [],
   "source": []
  }
 ],
 "metadata": {
  "kernelspec": {
   "display_name": "Python 3 (ipykernel)",
   "language": "python",
   "name": "python3"
  },
  "language_info": {
   "codemirror_mode": {
    "name": "ipython",
    "version": 3
   },
   "file_extension": ".py",
   "mimetype": "text/x-python",
   "name": "python",
   "nbconvert_exporter": "python",
   "pygments_lexer": "ipython3",
   "version": "3.11.4"
  }
 },
 "nbformat": 4,
 "nbformat_minor": 5
}
