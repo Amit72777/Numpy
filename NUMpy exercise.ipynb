{
 "cells": [
  {
   "cell_type": "markdown",
   "id": "fa8d3559",
   "metadata": {},
   "source": [
    "# import Numpy library"
   ]
  },
  {
   "cell_type": "code",
   "execution_count": 1,
   "id": "7955f76a",
   "metadata": {},
   "outputs": [],
   "source": [
    "import numpy as np"
   ]
  },
  {
   "cell_type": "markdown",
   "id": "31a3c3b5",
   "metadata": {},
   "source": [
    "# Create an array using array function "
   ]
  },
  {
   "cell_type": "code",
   "execution_count": 3,
   "id": "acb33d44",
   "metadata": {},
   "outputs": [],
   "source": [
    "matrix = np.array([[1,2,3],[4,5,6],[7,8,9]])"
   ]
  },
  {
   "cell_type": "code",
   "execution_count": 5,
   "id": "158a00a8",
   "metadata": {},
   "outputs": [
    {
     "name": "stdout",
     "output_type": "stream",
     "text": [
      "[[1 2 3]\n",
      " [4 5 6]\n",
      " [7 8 9]]\n"
     ]
    }
   ],
   "source": [
    "print(matrix)"
   ]
  },
  {
   "cell_type": "markdown",
   "id": "f623a0dc",
   "metadata": {},
   "source": [
    "##  Create an array containing numbers form 20 to 40  "
   ]
  },
  {
   "cell_type": "code",
   "execution_count": 7,
   "id": "b9d0ff29",
   "metadata": {},
   "outputs": [],
   "source": [
    "arr = np.random.randint(20,41,10)"
   ]
  },
  {
   "cell_type": "code",
   "execution_count": 8,
   "id": "0f192563",
   "metadata": {},
   "outputs": [
    {
     "data": {
      "text/plain": [
       "array([27, 26, 23, 25, 34, 24, 39, 31, 25, 28])"
      ]
     },
     "execution_count": 8,
     "metadata": {},
     "output_type": "execute_result"
    }
   ],
   "source": [
    "arr"
   ]
  },
  {
   "cell_type": "markdown",
   "id": "aa6b948c",
   "metadata": {},
   "source": [
    "### Create an Array which contain 10 elements and every element is 5 "
   ]
  },
  {
   "cell_type": "code",
   "execution_count": 15,
   "id": "b5fc9204",
   "metadata": {},
   "outputs": [],
   "source": [
    "arr = np.array([5 for i in range(10)])"
   ]
  },
  {
   "cell_type": "code",
   "execution_count": 16,
   "id": "382747e3",
   "metadata": {},
   "outputs": [
    {
     "data": {
      "text/plain": [
       "array([5, 5, 5, 5, 5, 5, 5, 5, 5, 5])"
      ]
     },
     "execution_count": 16,
     "metadata": {},
     "output_type": "execute_result"
    }
   ],
   "source": [
    "arr"
   ]
  },
  {
   "cell_type": "markdown",
   "id": "ba1fbb4d",
   "metadata": {},
   "source": [
    "### Create array containing 20 random interger every even number with -1  "
   ]
  },
  {
   "cell_type": "code",
   "execution_count": 24,
   "id": "525d316e",
   "metadata": {},
   "outputs": [],
   "source": [
    " arr = np.random.randint(1,100,20)"
   ]
  },
  {
   "cell_type": "code",
   "execution_count": 25,
   "id": "c53438ab",
   "metadata": {},
   "outputs": [
    {
     "data": {
      "text/plain": [
       "array([73, 75, 94,  7, 70,  8,  8, 65, 16, 77, 43, 22, 17, 88, 57, 21, 44,\n",
       "       63, 65, 25])"
      ]
     },
     "execution_count": 25,
     "metadata": {},
     "output_type": "execute_result"
    }
   ],
   "source": [
    "arr"
   ]
  },
  {
   "cell_type": "code",
   "execution_count": 26,
   "id": "320654e4",
   "metadata": {},
   "outputs": [],
   "source": [
    "arr[arr%2 == 0 ] = -1"
   ]
  },
  {
   "cell_type": "code",
   "execution_count": 27,
   "id": "1377765b",
   "metadata": {},
   "outputs": [
    {
     "data": {
      "text/plain": [
       "array([73, 75, -1,  7, -1, -1, -1, 65, -1, 77, 43, -1, 17, -1, 57, 21, -1,\n",
       "       63, 65, 25])"
      ]
     },
     "execution_count": 27,
     "metadata": {},
     "output_type": "execute_result"
    }
   ],
   "source": [
    "arr"
   ]
  },
  {
   "cell_type": "markdown",
   "id": "ff97b741",
   "metadata": {},
   "source": [
    "### Stake to 2d  arary "
   ]
  },
  {
   "cell_type": "code",
   "execution_count": 28,
   "id": "8bc79f09",
   "metadata": {},
   "outputs": [],
   "source": [
    "m1 = np.random.randint(1,110,9).reshape(3,3)\n",
    "m2 = np.random.randint(110,210,9).reshape(3,3)\n"
   ]
  },
  {
   "cell_type": "code",
   "execution_count": 29,
   "id": "4511278b",
   "metadata": {},
   "outputs": [
    {
     "data": {
      "text/plain": [
       "array([[96,  3, 56],\n",
       "       [ 6,  6, 20],\n",
       "       [37, 65, 39]])"
      ]
     },
     "execution_count": 29,
     "metadata": {},
     "output_type": "execute_result"
    }
   ],
   "source": [
    "m1"
   ]
  },
  {
   "cell_type": "code",
   "execution_count": 30,
   "id": "1e845a08",
   "metadata": {},
   "outputs": [
    {
     "data": {
      "text/plain": [
       "array([[174, 208, 158],\n",
       "       [203, 168, 209],\n",
       "       [176, 122, 133]])"
      ]
     },
     "execution_count": 30,
     "metadata": {},
     "output_type": "execute_result"
    }
   ],
   "source": [
    "m2"
   ]
  },
  {
   "cell_type": "code",
   "execution_count": 31,
   "id": "8f1b978a",
   "metadata": {},
   "outputs": [
    {
     "data": {
      "text/plain": [
       "array([[ 96,   3,  56, 174, 208, 158],\n",
       "       [  6,   6,  20, 203, 168, 209],\n",
       "       [ 37,  65,  39, 176, 122, 133]])"
      ]
     },
     "execution_count": 31,
     "metadata": {},
     "output_type": "execute_result"
    }
   ],
   "source": [
    "np.hstack((m1,m2))"
   ]
  },
  {
   "cell_type": "code",
   "execution_count": 32,
   "id": "d8d7f4ea",
   "metadata": {},
   "outputs": [
    {
     "data": {
      "text/plain": [
       "array([[ 96,   3,  56],\n",
       "       [  6,   6,  20],\n",
       "       [ 37,  65,  39],\n",
       "       [174, 208, 158],\n",
       "       [203, 168, 209],\n",
       "       [176, 122, 133]])"
      ]
     },
     "execution_count": 32,
     "metadata": {},
     "output_type": "execute_result"
    }
   ],
   "source": [
    "np.vstack((m1,m2))"
   ]
  },
  {
   "cell_type": "code",
   "execution_count": null,
   "id": "480861e5",
   "metadata": {},
   "outputs": [],
   "source": []
  }
 ],
 "metadata": {
  "kernelspec": {
   "display_name": "Python 3 (ipykernel)",
   "language": "python",
   "name": "python3"
  },
  "language_info": {
   "codemirror_mode": {
    "name": "ipython",
    "version": 3
   },
   "file_extension": ".py",
   "mimetype": "text/x-python",
   "name": "python",
   "nbconvert_exporter": "python",
   "pygments_lexer": "ipython3",
   "version": "3.11.4"
  }
 },
 "nbformat": 4,
 "nbformat_minor": 5
}
