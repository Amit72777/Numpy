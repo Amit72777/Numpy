{
 "cells": [
  {
   "cell_type": "markdown",
   "id": "d13147fb",
   "metadata": {},
   "source": [
    "# Numerical operation of  Two  array \n"
   ]
  },
  {
   "cell_type": "code",
   "execution_count": 20,
   "id": "8ff6c92d",
   "metadata": {},
   "outputs": [],
   "source": [
    "import numpy as np"
   ]
  },
  {
   "cell_type": "code",
   "execution_count": 21,
   "id": "641a4e7c",
   "metadata": {},
   "outputs": [],
   "source": [
    "arr1 = np.arange(1,10)\n",
    "arr2 = np.arange(11,20)"
   ]
  },
  {
   "cell_type": "code",
   "execution_count": 22,
   "id": "4f7496cd",
   "metadata": {},
   "outputs": [
    {
     "name": "stdout",
     "output_type": "stream",
     "text": [
      "[1 2 3 4 5 6 7 8 9]\n",
      "[11 12 13 14 15 16 17 18 19]\n"
     ]
    }
   ],
   "source": [
    "print(arr1,arr2,sep= \"\\n\")"
   ]
  },
  {
   "cell_type": "code",
   "execution_count": 23,
   "id": "79fcc0a4",
   "metadata": {},
   "outputs": [],
   "source": [
    "arr3 = arr1 +arr2"
   ]
  },
  {
   "cell_type": "code",
   "execution_count": 24,
   "id": "ca2a1d3e",
   "metadata": {},
   "outputs": [
    {
     "name": "stdout",
     "output_type": "stream",
     "text": [
      "[12 14 16 18 20 22 24 26 28]\n"
     ]
    }
   ],
   "source": [
    "print(arr3)"
   ]
  },
  {
   "cell_type": "code",
   "execution_count": 25,
   "id": "b995e1a7",
   "metadata": {},
   "outputs": [],
   "source": [
    "arr1 = arr1.reshape(3,-1)\n",
    "arr2 = arr2.reshape(3,-1)"
   ]
  },
  {
   "cell_type": "code",
   "execution_count": 26,
   "id": "41dc82bf",
   "metadata": {},
   "outputs": [
    {
     "name": "stdout",
     "output_type": "stream",
     "text": [
      "arr1 =\n",
      "[[1 2 3]\n",
      " [4 5 6]\n",
      " [7 8 9]]\n",
      "arr2 =\n",
      "[[11 12 13]\n",
      " [14 15 16]\n",
      " [17 18 19]]\n"
     ]
    }
   ],
   "source": [
    "print(\"arr1 =\" , arr1,sep = \"\\n\")\n",
    "print(\"arr2 =\" , arr2,sep = \"\\n\")"
   ]
  },
  {
   "cell_type": "code",
   "execution_count": 27,
   "id": "fd5a750b",
   "metadata": {},
   "outputs": [
    {
     "data": {
      "text/plain": [
       "array([[12, 14, 16],\n",
       "       [18, 20, 22],\n",
       "       [24, 26, 28]])"
      ]
     },
     "execution_count": 27,
     "metadata": {},
     "output_type": "execute_result"
    }
   ],
   "source": [
    "arr1+arr2"
   ]
  },
  {
   "cell_type": "code",
   "execution_count": 28,
   "id": "c1ae4257",
   "metadata": {},
   "outputs": [
    {
     "data": {
      "text/plain": [
       "array([[ 90,  96, 102],\n",
       "       [216, 231, 246],\n",
       "       [342, 366, 390]])"
      ]
     },
     "execution_count": 28,
     "metadata": {},
     "output_type": "execute_result"
    }
   ],
   "source": [
    "arr1.dot(arr2) # this function for matix multipication "
   ]
  }
 ],
 "metadata": {
  "kernelspec": {
   "display_name": "Python 3 (ipykernel)",
   "language": "python",
   "name": "python3"
  },
  "language_info": {
   "codemirror_mode": {
    "name": "ipython",
    "version": 3
   },
   "file_extension": ".py",
   "mimetype": "text/x-python",
   "name": "python",
   "nbconvert_exporter": "python",
   "pygments_lexer": "ipython3",
   "version": "3.11.4"
  }
 },
 "nbformat": 4,
 "nbformat_minor": 5
}
