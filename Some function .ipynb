{
 "cells": [
  {
   "cell_type": "code",
   "execution_count": 2,
   "id": "337a4f06",
   "metadata": {},
   "outputs": [],
   "source": [
    "import numpy as np"
   ]
  },
  {
   "cell_type": "code",
   "execution_count": 3,
   "id": "c2cc1104",
   "metadata": {},
   "outputs": [],
   "source": [
    "arr = np.array([9,2,3,4,5,49,32])"
   ]
  },
  {
   "cell_type": "code",
   "execution_count": 4,
   "id": "26bc0c1a",
   "metadata": {},
   "outputs": [
    {
     "name": "stdout",
     "output_type": "stream",
     "text": [
      "[ 9  2  3  4  5 49 32]\n"
     ]
    }
   ],
   "source": [
    "print(arr)"
   ]
  },
  {
   "cell_type": "code",
   "execution_count": 5,
   "id": "a2c2c63e",
   "metadata": {},
   "outputs": [
    {
     "data": {
      "text/plain": [
       "2"
      ]
     },
     "execution_count": 5,
     "metadata": {},
     "output_type": "execute_result"
    }
   ],
   "source": [
    "np.min(arr) # find minimum number "
   ]
  },
  {
   "cell_type": "code",
   "execution_count": 6,
   "id": "137c3f0b",
   "metadata": {},
   "outputs": [
    {
     "data": {
      "text/plain": [
       "49"
      ]
     },
     "execution_count": 6,
     "metadata": {},
     "output_type": "execute_result"
    }
   ],
   "source": [
    "np.max(arr) # find max number in array"
   ]
  },
  {
   "cell_type": "code",
   "execution_count": 7,
   "id": "f4eb685a",
   "metadata": {},
   "outputs": [
    {
     "data": {
      "text/plain": [
       "1"
      ]
     },
     "execution_count": 7,
     "metadata": {},
     "output_type": "execute_result"
    }
   ],
   "source": [
    "np.argmin(arr)  # find index of minmun number in array "
   ]
  },
  {
   "cell_type": "code",
   "execution_count": 8,
   "id": "30b53a51",
   "metadata": {},
   "outputs": [
    {
     "data": {
      "text/plain": [
       "5"
      ]
     },
     "execution_count": 8,
     "metadata": {},
     "output_type": "execute_result"
    }
   ],
   "source": [
    "np.argmax(arr) # find index of maximum number n array  & index start in 0 "
   ]
  },
  {
   "cell_type": "code",
   "execution_count": 9,
   "id": "db0529c7",
   "metadata": {},
   "outputs": [],
   "source": [
    "arr1 = np.array([[1,2,3],[5,10,7],[7,8,9]])"
   ]
  },
  {
   "cell_type": "code",
   "execution_count": 10,
   "id": "6f34fb08",
   "metadata": {},
   "outputs": [
    {
     "name": "stdout",
     "output_type": "stream",
     "text": [
      "[[ 1  2  3]\n",
      " [ 5 10  7]\n",
      " [ 7  8  9]]\n"
     ]
    }
   ],
   "source": [
    "print(arr1)"
   ]
  },
  {
   "cell_type": "code",
   "execution_count": 11,
   "id": "d15f21e4",
   "metadata": {},
   "outputs": [
    {
     "data": {
      "text/plain": [
       "4"
      ]
     },
     "execution_count": 11,
     "metadata": {},
     "output_type": "execute_result"
    }
   ],
   "source": [
    "np.argmax(arr1)"
   ]
  },
  {
   "cell_type": "code",
   "execution_count": 12,
   "id": "e4c8b88d",
   "metadata": {},
   "outputs": [
    {
     "data": {
      "text/plain": [
       "array([3.        , 1.41421356, 1.73205081, 2.        , 2.23606798,\n",
       "       7.        , 5.65685425])"
      ]
     },
     "execution_count": 12,
     "metadata": {},
     "output_type": "execute_result"
    }
   ],
   "source": [
    "np.sqrt(arr) \n",
    "# find square root in array "
   ]
  },
  {
   "cell_type": "code",
   "execution_count": 13,
   "id": "2ab3b0ec",
   "metadata": {},
   "outputs": [
    {
     "data": {
      "text/plain": [
       "array([8.10308393e+03, 7.38905610e+00, 2.00855369e+01, 5.45981500e+01,\n",
       "       1.48413159e+02, 1.90734657e+21, 7.89629602e+13])"
      ]
     },
     "execution_count": 13,
     "metadata": {},
     "output_type": "execute_result"
    }
   ],
   "source": [
    "np.exp(arr)   # expontional number "
   ]
  },
  {
   "cell_type": "code",
   "execution_count": 14,
   "id": "6102f58d",
   "metadata": {},
   "outputs": [
    {
     "data": {
      "text/plain": [
       "array([-0.91113026, -0.41614684, -0.9899925 , -0.65364362,  0.28366219,\n",
       "        0.30059254,  0.83422336])"
      ]
     },
     "execution_count": 14,
     "metadata": {},
     "output_type": "execute_result"
    }
   ],
   "source": [
    "np.cos(arr) # find cos value in array "
   ]
  },
  {
   "cell_type": "code",
   "execution_count": 15,
   "id": "6004c86d",
   "metadata": {},
   "outputs": [
    {
     "data": {
      "text/plain": [
       "array([ 0.41211849,  0.90929743,  0.14112001, -0.7568025 , -0.95892427,\n",
       "       -0.95375265,  0.55142668])"
      ]
     },
     "execution_count": 15,
     "metadata": {},
     "output_type": "execute_result"
    }
   ],
   "source": [
    "np.sin(arr) # find sine value in array "
   ]
  },
  {
   "cell_type": "code",
   "execution_count": 16,
   "id": "f6e39012",
   "metadata": {},
   "outputs": [
    {
     "data": {
      "text/plain": [
       "array([-0.45231566, -2.18503986, -0.14254654,  1.15782128, -3.38051501,\n",
       "       -3.17290855,  0.66100604])"
      ]
     },
     "execution_count": 16,
     "metadata": {},
     "output_type": "execute_result"
    }
   ],
   "source": [
    "np.tan(arr)  # find tan value in arary "
   ]
  },
  {
   "cell_type": "code",
   "execution_count": 17,
   "id": "c7428a38",
   "metadata": {},
   "outputs": [
    {
     "data": {
      "text/plain": [
       "array([ 0. , 12.5, 25. , 37.5, 50. ])"
      ]
     },
     "execution_count": 17,
     "metadata": {},
     "output_type": "execute_result"
    }
   ],
   "source": [
    "np.linspace(0,50,5) # find 5 number between 0 10 50 in same difference "
   ]
  },
  {
   "cell_type": "code",
   "execution_count": 18,
   "id": "64cca7e9",
   "metadata": {},
   "outputs": [
    {
     "data": {
      "text/plain": [
       "array([ True,  True,  True, False,  True, False])"
      ]
     },
     "execution_count": 18,
     "metadata": {},
     "output_type": "execute_result"
    }
   ],
   "source": [
    "np.array([1,2,4,0,32,0 ],dtype=\"bool\")  # creat bool array non zerore value to be true "
   ]
  },
  {
   "cell_type": "code",
   "execution_count": 24,
   "id": "1995bfc4",
   "metadata": {},
   "outputs": [
    {
     "data": {
      "text/plain": [
       "array([[ 1,  2,  3],\n",
       "       [ 5, 10,  7],\n",
       "       [ 7,  8,  9]])"
      ]
     },
     "execution_count": 24,
     "metadata": {},
     "output_type": "execute_result"
    }
   ],
   "source": [
    "arr1"
   ]
  },
  {
   "cell_type": "code",
   "execution_count": 28,
   "id": "e0f29907",
   "metadata": {},
   "outputs": [
    {
     "name": "stdout",
     "output_type": "stream",
     "text": [
      "[[ 1  2  3]\n",
      " [ 5  7 10]\n",
      " [ 7  8  9]]\n"
     ]
    }
   ],
   "source": [
    "print(np.sort(arr1)) # storting using array "
   ]
  },
  {
   "cell_type": "code",
   "execution_count": null,
   "id": "bee06968",
   "metadata": {},
   "outputs": [],
   "source": []
  }
 ],
 "metadata": {
  "kernelspec": {
   "display_name": "Python 3 (ipykernel)",
   "language": "python",
   "name": "python3"
  },
  "language_info": {
   "codemirror_mode": {
    "name": "ipython",
    "version": 3
   },
   "file_extension": ".py",
   "mimetype": "text/x-python",
   "name": "python",
   "nbconvert_exporter": "python",
   "pygments_lexer": "ipython3",
   "version": "3.11.4"
  }
 },
 "nbformat": 4,
 "nbformat_minor": 5
}
