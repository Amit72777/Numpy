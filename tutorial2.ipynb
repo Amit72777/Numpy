{
 "cells": [
  {
   "cell_type": "markdown",
   "id": "9c1a8506",
   "metadata": {},
   "source": [
    "# This is heading \n",
    "#       our code \n"
   ]
  },
  {
   "cell_type": "code",
   "execution_count": 3,
   "id": "4c48ec31",
   "metadata": {},
   "outputs": [
    {
     "name": "stdout",
     "output_type": "stream",
     "text": [
      "Hello World \n"
     ]
    }
   ],
   "source": [
    "print(\"Hello World \")"
   ]
  },
  {
   "cell_type": "code",
   "execution_count": 4,
   "id": "d84660c4",
   "metadata": {},
   "outputs": [],
   "source": [
    "import numpy as np"
   ]
  },
  {
   "cell_type": "code",
   "execution_count": 41,
   "id": "1be7bcb1",
   "metadata": {},
   "outputs": [],
   "source": [
    "num =[ [[1,2,3],[4,5,6],[5,6,7] ], [[1,2,3],[4,5,6.0],[5,6,7] ]]"
   ]
  },
  {
   "cell_type": "code",
   "execution_count": 42,
   "id": "b799db6b",
   "metadata": {},
   "outputs": [],
   "source": [
    "nums = np.array(num)"
   ]
  },
  {
   "cell_type": "code",
   "execution_count": 43,
   "id": "ebf5c81e",
   "metadata": {},
   "outputs": [
    {
     "data": {
      "text/plain": [
       "array([[[1., 2., 3.],\n",
       "        [4., 5., 6.],\n",
       "        [5., 6., 7.]],\n",
       "\n",
       "       [[1., 2., 3.],\n",
       "        [4., 5., 6.],\n",
       "        [5., 6., 7.]]])"
      ]
     },
     "execution_count": 43,
     "metadata": {},
     "output_type": "execute_result"
    }
   ],
   "source": [
    "nums"
   ]
  },
  {
   "cell_type": "markdown",
   "id": "fe808982",
   "metadata": {},
   "source": []
  },
  {
   "cell_type": "code",
   "execution_count": 44,
   "id": "c7645bb1",
   "metadata": {},
   "outputs": [
    {
     "data": {
      "text/plain": [
       "3"
      ]
     },
     "execution_count": 44,
     "metadata": {},
     "output_type": "execute_result"
    }
   ],
   "source": [
    "nums.ndim\n"
   ]
  },
  {
   "cell_type": "code",
   "execution_count": 45,
   "id": "b8ad792d",
   "metadata": {},
   "outputs": [
    {
     "data": {
      "text/plain": [
       "(2, 3, 3)"
      ]
     },
     "execution_count": 45,
     "metadata": {},
     "output_type": "execute_result"
    }
   ],
   "source": [
    "nums.shape"
   ]
  },
  {
   "cell_type": "code",
   "execution_count": 46,
   "id": "d45eef71",
   "metadata": {},
   "outputs": [
    {
     "data": {
      "text/plain": [
       "dtype('float64')"
      ]
     },
     "execution_count": 46,
     "metadata": {},
     "output_type": "execute_result"
    }
   ],
   "source": [
    "nums.dtype"
   ]
  },
  {
   "cell_type": "markdown",
   "id": "ce6dfb3f",
   "metadata": {},
   "source": [
    "eye, ones , zeroes , dias "
   ]
  },
  {
   "cell_type": "code",
   "execution_count": 56,
   "id": "cf121326",
   "metadata": {},
   "outputs": [
    {
     "data": {
      "text/plain": [
       "array([1., 1., 1.])"
      ]
     },
     "execution_count": 56,
     "metadata": {},
     "output_type": "execute_result"
    }
   ],
   "source": [
    "n1 = np.ones(3)          \n",
    "n1\n",
    "            "
   ]
  },
  {
   "cell_type": "code",
   "execution_count": 53,
   "id": "2e6070ff",
   "metadata": {},
   "outputs": [
    {
     "data": {
      "text/plain": [
       "array([0., 0.])"
      ]
     },
     "execution_count": 53,
     "metadata": {},
     "output_type": "execute_result"
    }
   ],
   "source": [
    "n2= np.zeros(2)\n",
    "n2"
   ]
  },
  {
   "cell_type": "code",
   "execution_count": 59,
   "id": "3d3169bc",
   "metadata": {},
   "outputs": [
    {
     "data": {
      "text/plain": [
       "array([[1., 1., 1.],\n",
       "       [1., 1., 1.]])"
      ]
     },
     "execution_count": 59,
     "metadata": {},
     "output_type": "execute_result"
    }
   ],
   "source": [
    "n2 = np.ones((2,3))\n",
    "n2"
   ]
  },
  {
   "cell_type": "code",
   "execution_count": 61,
   "id": "36ecefdc",
   "metadata": {},
   "outputs": [
    {
     "data": {
      "text/plain": [
       "array([[1., 0., 0., 0.],\n",
       "       [0., 1., 0., 0.],\n",
       "       [0., 0., 1., 0.],\n",
       "       [0., 0., 0., 1.]])"
      ]
     },
     "execution_count": 61,
     "metadata": {},
     "output_type": "execute_result"
    }
   ],
   "source": [
    "n3 = np.eye(4)\n",
    "n3"
   ]
  },
  {
   "cell_type": "code",
   "execution_count": 64,
   "id": "9c9d8c9f",
   "metadata": {},
   "outputs": [
    {
     "data": {
      "text/plain": [
       "array([[1., 0., 0.],\n",
       "       [0., 1., 0.],\n",
       "       [0., 0., 1.],\n",
       "       [0., 0., 0.]])"
      ]
     },
     "execution_count": 64,
     "metadata": {},
     "output_type": "execute_result"
    }
   ],
   "source": [
    "n3 = np.eye(4,3)\n",
    "n3"
   ]
  },
  {
   "cell_type": "code",
   "execution_count": 68,
   "id": "22f7afbc",
   "metadata": {},
   "outputs": [
    {
     "data": {
      "text/plain": [
       "array([[ 4,  0,  0,  0],\n",
       "       [ 0,  8,  0,  0],\n",
       "       [ 0,  0,  9,  0],\n",
       "       [ 0,  0,  0, 98]])"
      ]
     },
     "execution_count": 68,
     "metadata": {},
     "output_type": "execute_result"
    }
   ],
   "source": [
    "n4 = np.diag([4,8,9,98])\n",
    "n4"
   ]
  },
  {
   "cell_type": "code",
   "execution_count": 69,
   "id": "aa445f20",
   "metadata": {},
   "outputs": [
    {
     "data": {
      "text/plain": [
       "array([ 4,  8,  9, 98])"
      ]
     },
     "execution_count": 69,
     "metadata": {},
     "output_type": "execute_result"
    }
   ],
   "source": [
    "n4 = np.diag(n4)\n",
    "n4"
   ]
  },
  {
   "cell_type": "code",
   "execution_count": 209,
   "id": "a2dd74e3",
   "metadata": {},
   "outputs": [
    {
     "data": {
      "text/plain": [
       "array([ 8, 16,  5, 16,  4])"
      ]
     },
     "execution_count": 209,
     "metadata": {},
     "output_type": "execute_result"
    }
   ],
   "source": [
    "ran_arr = np.random.randint(1,20,5) # first for start , ending , how many number are input \n",
    "ran_arr"
   ]
  },
  {
   "cell_type": "code",
   "execution_count": 213,
   "id": "91162461",
   "metadata": {},
   "outputs": [
    {
     "data": {
      "text/plain": [
       "array([[0.06157686, 0.96382933, 0.83579735],\n",
       "       [0.71219795, 0.94603366, 0.59215519],\n",
       "       [0.29280163, 0.58482924, 0.82471108]])"
      ]
     },
     "execution_count": 213,
     "metadata": {},
     "output_type": "execute_result"
    }
   ],
   "source": [
    "rand_ar = np.random.rand(3,3) # find flat number between 0 to 1 \n",
    "rand_ar"
   ]
  },
  {
   "cell_type": "code",
   "execution_count": 215,
   "id": "38df3ccf",
   "metadata": {},
   "outputs": [
    {
     "data": {
      "text/plain": [
       "array([[-0.25457236, -0.5101029 , -0.80529977],\n",
       "       [-1.96578933,  0.29530881,  0.04667666],\n",
       "       [ 0.96446724, -0.98693883,  1.35569519]])"
      ]
     },
     "execution_count": 215,
     "metadata": {},
     "output_type": "execute_result"
    }
   ],
   "source": [
    "rand_ar = np.random.randn(3,3) # find flat number between nearest to 0 -ve and +ve both \n",
    "rand_ar"
   ]
  },
  {
   "cell_type": "code",
   "execution_count": 216,
   "id": "1e95802c",
   "metadata": {},
   "outputs": [
    {
     "data": {
      "text/plain": [
       "<module 'numpy' from 'C:\\\\Users\\\\amitk\\\\anaconda3\\\\Lib\\\\site-packages\\\\numpy\\\\__init__.py'>"
      ]
     },
     "execution_count": 216,
     "metadata": {},
     "output_type": "execute_result"
    }
   ],
   "source": [
    "np\n"
   ]
  },
  {
   "cell_type": "code",
   "execution_count": null,
   "id": "d9847064",
   "metadata": {},
   "outputs": [],
   "source": []
  }
 ],
 "metadata": {
  "kernelspec": {
   "display_name": "Python 3 (ipykernel)",
   "language": "python",
   "name": "python3"
  },
  "language_info": {
   "codemirror_mode": {
    "name": "ipython",
    "version": 3
   },
   "file_extension": ".py",
   "mimetype": "text/x-python",
   "name": "python",
   "nbconvert_exporter": "python",
   "pygments_lexer": "ipython3",
   "version": "3.11.4"
  }
 },
 "nbformat": 4,
 "nbformat_minor": 5
}
